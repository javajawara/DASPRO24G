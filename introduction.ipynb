{
 "cells": [
  {
   "cell_type": "markdown",
   "id": "d105e67f-a407-4b9a-98fa-41e9bf279aaa",
   "metadata": {},
   "source": [
    "<center>\n",
    "<img src=\"https://logos-world.net/wp-content/uploads/2021/10/Python-Logo.png\" width=\"200\">\n",
    "</center>\n",
    "<br>\n",
    "<b>Cell</b> di Jupyter ada 2 jenis:\n",
    "<ol>\n",
    "    <li>Mark Down - (M)</li>\n",
    "    <li>Code - (Y)</li>\n",
    "</ol>\n",
    "<hr>"
   ]
  },
  {
   "cell_type": "markdown",
   "id": "7ddc3231-9929-4b5c-a0e1-26e08207aba9",
   "metadata": {},
   "source": [
    "Cara menambahkan cell ada 2:\n",
    "<ul>\n",
    "    <li>A (above) di atas cell</li>\n",
    "    <li>B (Below) di bawah cell</li>\n",
    "</ul>\n",
    "<table>\n",
    "    <tr>\n",
    "        <td>NIM</td>\n",
    "        <td>:</td>\n",
    "        <td>0123456789</td>\n",
    "    </tr>\n",
    "    <tr>\n",
    "        <td>NAMA</td>\n",
    "        <td>:</td>\n",
    "        <td>Alun Sujjada</td>\n",
    "    </tr>\n",
    "    <tr>\n",
    "        <td>Kelas</td>\n",
    "        <td>:</td>\n",
    "        <td>TI24G</td>\n",
    "    </tr>\n",
    "</table>"
   ]
  },
  {
   "cell_type": "code",
   "execution_count": 28,
   "id": "33721928-34ed-4fc6-ad67-ebe4e97ed976",
   "metadata": {},
   "outputs": [
    {
     "name": "stdout",
     "output_type": "stream",
     "text": [
      "Python is very easy\n",
      "Sekarang hari jum'at\n",
      "Deklarasi Variabel \"A\"\n",
      "5\n"
     ]
    },
    {
     "data": {
      "text/plain": [
       "'54'"
      ]
     },
     "execution_count": 28,
     "metadata": {},
     "output_type": "execute_result"
    }
   ],
   "source": [
    "print(\"Python is very easy\")\n",
    "print(\"Sekarang hari jum'at\")\n",
    "print('Deklarasi Variabel \"A\"')"
   ]
  }
 ],
 "metadata": {
  "kernelspec": {
   "display_name": "Python [conda env:base] *",
   "language": "python",
   "name": "conda-base-py"
  },
  "language_info": {
   "codemirror_mode": {
    "name": "ipython",
    "version": 3
   },
   "file_extension": ".py",
   "mimetype": "text/x-python",
   "name": "python",
   "nbconvert_exporter": "python",
   "pygments_lexer": "ipython3",
   "version": "3.12.7"
  }
 },
 "nbformat": 4,
 "nbformat_minor": 5
}
